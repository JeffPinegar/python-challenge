{
 "cells": [
  {
   "cell_type": "markdown",
   "id": "9ace3b36",
   "metadata": {},
   "source": [
    "## PyPoll Playground\n",
    "This is where I am testing parts of my project"
   ]
  },
  {
   "cell_type": "code",
   "execution_count": 2,
   "id": "d2f6b728",
   "metadata": {},
   "outputs": [
    {
     "name": "stdout",
     "output_type": "stream",
     "text": [
      "\n",
      " ===================================\n",
      " >>>>>    Election Results   <<<<<<< \n",
      " ===================================\n",
      " The vote total is: 369,711\n",
      " --------------------------------------------------------------------------\n",
      " Raymon Anthony Doane recieved 11,606 votes for 3.14% of the vote. \n",
      " Charles Casper Stockham recieved 85,213 votes for 23.05% of the vote. \n",
      " Diana DeGette recieved 272,892 votes for 73.81% of the vote. \n",
      " --------------------------------------------------------------------------\n",
      " The winner is: Diana DeGette \n",
      "\n"
     ]
    }
   ],
   "source": [
    "# Jeff Pinegar\n",
    "# jeffpinegar1@gmail.com\n",
    "# October 10, 2022\n",
    "\n",
    "# PyBank Challenge\n",
    "\n",
    "import os\n",
    "import csv\n",
    "\n",
    "# Identify the source file, and set path to the file\n",
    "csvpath = os.path.join('.','Resources', 'election_data.csv')\n",
    "\n",
    "# open a csv file and read it in\n",
    "# creating a dictionary using the header row as keys\n",
    "with open(csvpath,'r' ) as f:                        \n",
    "    mydata = csv.DictReader(f, delimiter=',')\n",
    "    mylist=list(mydata)\n",
    "\n",
    "\n",
    "# The total number of votes cast is equal to the length of the list\n",
    "numVotes = len(mylist)\n",
    "\n",
    "# Create a complete list of candidates who received votes. \n",
    "# Sets can only contain unique elements. So adding every vote to a set will eliminate the duplicate names.\n",
    "thecandidates=set()  # The empty set is create first.  This technique is used so that python does not create a dictionary\n",
    "for vote in mylist:\n",
    "    thecandidates.add(vote['Candidate'])\n",
    "\n",
    "\n",
    "# Calculate the total number of votes each candidate received.\n",
    "# Create a dictionary using the 'thecanidates' as keys and setting the initial value of each to 0\n",
    "voteTally= dict.fromkeys(thecandidates,0)\n",
    "for vote in mylist:                         #Accumulate the votes for each canidate\n",
    "    name = vote['Candidate']\n",
    "    voteTally[name] += 1\n",
    "\n",
    "\n",
    "# Calculate the percentage of votes each candidate won and winner\n",
    "# Use the same for loop to determin the winner\n",
    "theWinnerIs = ''\n",
    "winnerVotes = 0\n",
    "voteAverage=dict.fromkeys(thecandidates,0)\n",
    "for name in voteTally:\n",
    "    voteAverage[name] = voteTally[name]/numVotes        # calculate the % for each canidate\n",
    "    if voteTally[name] > winnerVotes:                   # if curren name has more votes than the last name save the name\n",
    "        winnerVotes = voteTally[name]                   # set the new high mark for votes\n",
    "        theWinnerIs = name                              # save the name of the person that set the high mark\n",
    "\n",
    "\n",
    "# Build the results message as list of strings\n",
    "resultsMessage=list()\n",
    "resultsMessage.append(f'\\n ===================================' + '\\n')\n",
    "resultsMessage.append(f'>>>>>    Election Results   <<<<<<< \\n')\n",
    "resultsMessage.append(f'===================================' + '\\n')\n",
    "formattednumVote = '{:,}'.format(numVotes)\n",
    "resultsMessage.append(f'The vote total is: {formattednumVote}' '\\n')\n",
    "resultsMessage.append(f'--------------------------------------------------------------------------' + '\\n')\n",
    "for name in thecandidates:\n",
    "    formattedPer = '{:,.2f}%'.format(voteAverage[name]*100)\n",
    "    formattedVoteTally = '{:,}'.format(voteTally[name])\n",
    "    resultsMessage.append(f'{name} recieved {formattedVoteTally} votes for {formattedPer} of the vote. \\n')\n",
    "resultsMessage.append(f'--------------------------------------------------------------------------' + '\\n')\n",
    "resultsMessage.append(f'The winner is: {theWinnerIs} \\n')\n",
    "\n",
    "\n",
    "# Print results to the screen\n",
    "print(*resultsMessage)\n",
    "\n",
    "\n",
    "#Write the results to a file\n",
    "# Open the file using \"write\" mode. Specify the filename for the results\n",
    "textpath = os.path.join('.','Analysis', 'Election_Results.txt')\n",
    "text_file = open(textpath, 'wt', encoding=\"utf-8\")\n",
    "lineNum=0\n",
    "for line in resultsMessage:\n",
    "    text_file.write(resultsMessage[lineNum])\n",
    "    lineNum +=1\n",
    "text_file.close()\n",
    "\n",
    "\n"
   ]
  },
  {
   "cell_type": "code",
   "execution_count": null,
   "id": "a0f180ad",
   "metadata": {},
   "outputs": [],
   "source": []
  }
 ],
 "metadata": {
  "kernelspec": {
   "display_name": "Python 3.10.7 64-bit",
   "language": "python",
   "name": "python3"
  },
  "language_info": {
   "codemirror_mode": {
    "name": "ipython",
    "version": 3
   },
   "file_extension": ".py",
   "mimetype": "text/x-python",
   "name": "python",
   "nbconvert_exporter": "python",
   "pygments_lexer": "ipython3",
   "version": "3.10.7"
  },
  "vscode": {
   "interpreter": {
    "hash": "8028c76f79c0157f27cccc7672b5d99b108d288dc9dd1641bb5e7985ccdb1443"
   }
  }
 },
 "nbformat": 4,
 "nbformat_minor": 5
}
