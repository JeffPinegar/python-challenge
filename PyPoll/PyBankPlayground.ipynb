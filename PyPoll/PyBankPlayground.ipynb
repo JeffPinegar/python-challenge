{
 "cells": [
  {
   "cell_type": "markdown",
   "id": "f5597a84",
   "metadata": {},
   "source": [
    "### My Poll Playground"
   ]
  },
  {
   "cell_type": "code",
   "execution_count": null,
   "id": "d116e082",
   "metadata": {},
   "outputs": [],
   "source": [
    "import os\n",
    "import csv\n",
    "import pprint\n",
    "\n",
    "# Set path for file\n",
    "csvpath = os.path.join('.','Resources', 'election_data.csv')\n",
    "\n",
    "# open a csv file and read it in\n",
    "# creating a dictionary with the the header rows and keys\n",
    "with open(csvpath,'r' ) as f:                        # This assume the input file is in the same location as the python file\n",
    "    mydata = csv.DictReader(f, delimiter=',')\n",
    "    mylist=list(mydata)\n",
    "\n",
    "\n",
    "# The total number of votes cast\n",
    "numVotes = len(mylist)\n",
    "\n",
    "# A complete list of candidates who received votes\n",
    "thecandidates=set()\n",
    "for vote in mylist:\n",
    "    #print (vote['Candidate'])\n",
    "    thecandidates.add(vote['Candidate'])\n",
    "\n",
    "\n",
    "# The total number of votes each candidate won\n",
    "voteTally= dict.fromkeys(thecandidates,0)\n",
    "for vote in mylist:\n",
    "    name = vote['Candidate']\n",
    "    voteTally[name] += 1\n",
    "\n",
    "\n",
    "# The percentage of votes each candidate won and winner\n",
    "theWinnerIs = ''\n",
    "winnerVotes = 0\n",
    "voteAverage=dict.fromkeys(thecandidates,0)\n",
    "for name in voteTally:\n",
    "    voteAverage[name] = voteTally[name]/numVotes\n",
    "    if voteTally[name] > winnerVotes:\n",
    "        winnerVotes = voteTally[name]\n",
    "        theWinnerIs = name\n",
    "\n",
    "\n",
    "# Build the results message as list of strings\n",
    "resultsMessage=list()\n",
    "resultsMessage.append(f'\\n ===================================' + '\\n')\n",
    "resultsMessage.append(f'>>>>>    Election Results   <<<<<<< \\n')\n",
    "resultsMessage.append(f'===================================' + '\\n')\n",
    "formattednumVote = '{:,}'.format(numVotes)\n",
    "resultsMessage.append(f'The vote total is: {formattednumVote}' '\\n')\n",
    "resultsMessage.append(f'--------------------------------------------------------------------------' + '\\n')\n",
    "for name in thecandidates:\n",
    "    formattedPer = '{:,.2f}%'.format(voteAverage[name]*100)\n",
    "    formattedVoteTally = '{:,}'.format(voteTally[name])\n",
    "    resultsMessage.append(f'{name} recieved {formattedVoteTally} votes for {formattedPer} of the vote. \\n')\n",
    "resultsMessage.append(f'--------------------------------------------------------------------------' + '\\n')\n",
    "resultsMessage.append(f'The winner is: {theWinnerIs} \\n')\n",
    "\n",
    "# Print results to the screen\n",
    "print(*resultsMessage)\n",
    "\n",
    "#Write the results to a file\n",
    "# Open the file using \"write\" mode. Specify the variable to hold the contents\n",
    "textpath = os.path.join('.','Analysis', 'Election_Results.txt')\n",
    "text_file = open(textpath, 'wt', encoding=\"utf-8\")\n",
    "lineNum=0\n",
    "for line in resultsMessage:\n",
    "    text_file.write(resultsMessage[lineNum])\n",
    "    lineNum +=1\n",
    "text_file.close()\n",
    "\n",
    "\n"
   ]
  },
  {
   "cell_type": "code",
   "execution_count": null,
   "id": "bc9c0be2",
   "metadata": {},
   "outputs": [],
   "source": []
  },
  {
   "cell_type": "markdown",
   "id": "86f3f5a7",
   "metadata": {},
   "source": [
    "### Stop"
   ]
  },
  {
   "cell_type": "code",
   "execution_count": 85,
   "id": "e1ccbee8",
   "metadata": {},
   "outputs": [
    {
     "name": "stdout",
     "output_type": "stream",
     "text": [
      "Election Results \n",
      " The vote total is 369711 \n",
      " -------------------------------------\n",
      " Diana DeGette recieve 0.74% of the vote and a total vote count of: 272892 \n",
      " Raymon Anthony Doane recieve 0.03% of the vote and a total vote count of: 11606 \n",
      " Charles Casper Stockham recieve 0.23% of the vote and a total vote count of: 85213 \n",
      " -------------------------------------\n",
      " The winner is: Diana DeGette \n",
      "\n"
     ]
    }
   ],
   "source": [
    "\n"
   ]
  },
  {
   "cell_type": "markdown",
   "id": "9ace3b36",
   "metadata": {},
   "source": [
    "## PyBank Playground\n",
    "This is where I am testing parts of my project"
   ]
  },
  {
   "cell_type": "code",
   "execution_count": 1,
   "id": "d2f6b728",
   "metadata": {},
   "outputs": [
    {
     "name": "stdout",
     "output_type": "stream",
     "text": [
      "Total number of month = 86\n",
      "Net profit and loss over 86 = $22,564,198\n",
      "The average change per month = $262,374.40\n",
      "The greatest gain occured on 13-Mar for $1,141,840.00\n",
      "The greatest loss occured on 10-Dec for $-1,194,133.00\n"
     ]
    }
   ],
   "source": [
    "import os\n",
    "import csv\n",
    "\n",
    "\n",
    "# Set path for file\n",
    "csvpath = os.path.join('.','Resources', 'budget_data.csv')\n",
    "\n",
    "# open a csv file and read it in\n",
    "# creating a dictionary with the the header rows and keys\n",
    "with open(csvpath,'r' ) as f:                        # This assume the input file is in the same location as the python file\n",
    "    data = csv.DictReader(f, delimiter=',')\n",
    "    mylist=list(data)\n",
    "\n",
    "# Calculate the number of month in the data set.\n",
    "numMonths = len(mylist)\n",
    "\n",
    "amt=0\n",
    "maxGainAmt=0\n",
    "maxGainMonth=None\n",
    "maxLossAmt=0\n",
    "maxLossMonth=None\n",
    "totalPandL=0\n",
    "for date in mylist:\n",
    "\n",
    "    #calculate the net profit and loss\n",
    "    amt=int(date['Profit/Losses'])\n",
    "    totalPandL += amt\n",
    "\n",
    "    # Determine maximum gain amount and month\n",
    "    if amt > maxGainAmt:\n",
    "        maxGainAmt = amt\n",
    "        maxGainMonth=date['Date']\n",
    "\n",
    "    # Determine greatest loss amount and month\n",
    "    if amt < maxLossAmt:\n",
    "        maxLossAmt = amt\n",
    "        maxLossMonth=date['Date']\n",
    "      \n",
    "\n",
    "#create my output string\n",
    "mystring = 'Total number of month = '+ str(numMonths) + '\\n'\n",
    "mystring = mystring + 'Net profit and loss over '+ str(numMonths) + ' = '+ '${:,}'.format(totalPandL) + '\\n'\n",
    "mystring = mystring + 'The average change per month = '+ '${:,.2f}'.format(totalPandL/numMonths) + '\\n'\n",
    "mystring = mystring + 'The greatest gain occured on ' + str(maxGainMonth) + ' for ' + '${:,.2f}'.format(maxGainAmt) + '\\n'\n",
    "mystring = mystring + 'The greatest loss occured on ' + str(maxLossMonth) + ' for ' + '${:,.2f}'.format(maxLossAmt)\n",
    "\n",
    "# Print my output\n",
    "print (mystring)\n",
    "\n",
    "# Open the file using \"write\" mode. Specify the variable to hold the contents\n",
    "text_file = open('Bank_Analysis.txt', 'wt', encoding=\"utf-8\")\n",
    "text_file.write(mystring)\n",
    "text_file.close()\n",
    "\n",
    "\n"
   ]
  },
  {
   "cell_type": "code",
   "execution_count": null,
   "id": "a0f180ad",
   "metadata": {},
   "outputs": [],
   "source": []
  }
 ],
 "metadata": {
  "kernelspec": {
   "display_name": "Python 3.10.7 64-bit",
   "language": "python",
   "name": "python3"
  },
  "language_info": {
   "codemirror_mode": {
    "name": "ipython",
    "version": 3
   },
   "file_extension": ".py",
   "mimetype": "text/x-python",
   "name": "python",
   "nbconvert_exporter": "python",
   "pygments_lexer": "ipython3",
   "version": "3.10.7"
  },
  "vscode": {
   "interpreter": {
    "hash": "8028c76f79c0157f27cccc7672b5d99b108d288dc9dd1641bb5e7985ccdb1443"
   }
  }
 },
 "nbformat": 4,
 "nbformat_minor": 5
}
