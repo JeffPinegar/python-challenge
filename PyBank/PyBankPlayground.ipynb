{
 "cells": [
  {
   "cell_type": "markdown",
   "id": "9ace3b36",
   "metadata": {},
   "source": [
    "## PyBank Playground\n",
    "This is where I am testing parts of my project"
   ]
  },
  {
   "cell_type": "code",
   "execution_count": 2,
   "id": "d2f6b728",
   "metadata": {},
   "outputs": [
    {
     "name": "stdout",
     "output_type": "stream",
     "text": [
      "\n",
      "============================================\n",
      ">>>>>>>>>>    P & L Analysis    <<<<<<<<<<<<\n",
      "============================================\n",
      "Total number of month = 86\n",
      "Net profit and loss over 86 = $22,564,198\n",
      "The average change per month = $262,374.40\n",
      "The greatest gain occurred on 13-Mar for $1,141,840.00\n",
      "The greatest loss occurred on 10-Dec for $-1,194,133.00\n"
     ]
    }
   ],
   "source": [
    "# Jeff Pinegar\n",
    "# jeffpinegar1@gmail.com\n",
    "# October 10, 2022\n",
    "\n",
    "# PyBank Challenge\n",
    "\n",
    "import os\n",
    "import csv\n",
    "\n",
    "# Identify the source file, and set path to the file\n",
    "csvpath = os.path.join('.','Resources', 'budget_data.csv')\n",
    "\n",
    "# open a csv file and read it in\n",
    "# creating a dictionary using the header row as keys\n",
    "with open(csvpath,'r' ) as f:                        \n",
    "    data = csv.DictReader(f, delimiter=',')\n",
    "    mylist=list(data)\n",
    "\n",
    "# Calculate the number of month in the data set.\n",
    "numMonths = len(mylist)\n",
    "\n",
    "# Initialize the variables use for analysis\n",
    "amt=0\n",
    "maxGainAmt=0\n",
    "maxGainMonth=None\n",
    "maxLossAmt=0\n",
    "maxLossMonth=None\n",
    "totalPandL=0\n",
    "\n",
    "# Look through the data one date at a time\n",
    "for date in mylist:\n",
    "\n",
    "    #calculate the net profit and loss\n",
    "    amt=int(date['Profit/Losses'])\n",
    "    totalPandL += amt\n",
    "\n",
    "    # Determine maximum gain amount and month\n",
    "    if amt > maxGainAmt:\n",
    "        maxGainAmt = amt\n",
    "        maxGainMonth=date['Date']\n",
    "\n",
    "    # Determine greatest loss amount and month\n",
    "    if amt < maxLossAmt:\n",
    "        maxLossAmt = amt\n",
    "        maxLossMonth=date['Date']\n",
    "      \n",
    "# build the output message one line at a time\n",
    "mystring = '\\n============================================' + '\\n'\n",
    "mystring = mystring + '>>>>>>>>>>    P & L Analysis    <<<<<<<<<<<<' + '\\n'\n",
    "mystring = mystring + '============================================' + '\\n'\n",
    "mystring = mystring + 'Total number of month = '+ str(numMonths) + '\\n'\n",
    "mystring = mystring + 'Net profit and loss over '+ str(numMonths) + ' = '+ '${:,}'.format(totalPandL) + '\\n'\n",
    "mystring = mystring + 'The average change per month = '+ '${:,.2f}'.format(totalPandL/numMonths) + '\\n'\n",
    "mystring = mystring + 'The greatest gain occurred on ' + str(maxGainMonth) + ' for ' + '${:,.2f}'.format(maxGainAmt) + '\\n'\n",
    "mystring = mystring + 'The greatest loss occurred on ' + str(maxLossMonth) + ' for ' + '${:,.2f}'.format(maxLossAmt)\n",
    "\n",
    "# Print the results to the screen\n",
    "print (mystring)\n",
    "\n",
    "# Open the file using \"write\" mode. Specify the variable to hold the contents\n",
    "textfile = os.path.join('.','Analysis', 'Bank_Analysis.txt')\n",
    "text_file = open(textfile, 'wt', encoding=\"utf-8\")\n",
    "text_file.write(mystring)\n",
    "text_file.close()"
   ]
  },
  {
   "cell_type": "code",
   "execution_count": null,
   "id": "01a0dfa6",
   "metadata": {},
   "outputs": [],
   "source": []
  }
 ],
 "metadata": {
  "kernelspec": {
   "display_name": "Python 3.10.7 64-bit",
   "language": "python",
   "name": "python3"
  },
  "language_info": {
   "codemirror_mode": {
    "name": "ipython",
    "version": 3
   },
   "file_extension": ".py",
   "mimetype": "text/x-python",
   "name": "python",
   "nbconvert_exporter": "python",
   "pygments_lexer": "ipython3",
   "version": "3.10.7"
  },
  "vscode": {
   "interpreter": {
    "hash": "8028c76f79c0157f27cccc7672b5d99b108d288dc9dd1641bb5e7985ccdb1443"
   }
  }
 },
 "nbformat": 4,
 "nbformat_minor": 5
}
